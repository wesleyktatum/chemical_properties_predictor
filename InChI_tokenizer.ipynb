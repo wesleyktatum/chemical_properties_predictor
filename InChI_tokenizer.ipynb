{
 "cells": [
  {
   "cell_type": "code",
   "execution_count": 2,
   "metadata": {},
   "outputs": [],
   "source": [
    "#Following this walkthrough:\n",
    "#https://www.kaggle.com/affjljoo3581/bms-molecular-translation-train-inchi-tokenizer\n",
    "!pip install -qq -U allennlp transformers tokenizers"
   ]
  },
  {
   "cell_type": "code",
   "execution_count": 3,
   "metadata": {},
   "outputs": [],
   "source": [
    "import tqdm\n",
    "import pandas as pd\n",
    "import matplotlib.pyplot as plt\n",
    "from tokenizers import Tokenizer\n",
    "from tokenizers.models import WordPiece\n",
    "from tokenizers.trainers import WordPieceTrainer\n",
    "from tokenizers.pre_tokenizers import Punctuation\n",
    "from tokenizers.processors import TemplateProcessing\n",
    "from tokenizers.decoders import WordPiece as WordPieceDecoder"
   ]
  },
  {
   "cell_type": "code",
   "execution_count": 4,
   "metadata": {},
   "outputs": [
    {
     "data": {
      "text/html": [
       "<div>\n",
       "<style scoped>\n",
       "    .dataframe tbody tr th:only-of-type {\n",
       "        vertical-align: middle;\n",
       "    }\n",
       "\n",
       "    .dataframe tbody tr th {\n",
       "        vertical-align: top;\n",
       "    }\n",
       "\n",
       "    .dataframe thead th {\n",
       "        text-align: right;\n",
       "    }\n",
       "</style>\n",
       "<table border=\"1\" class=\"dataframe\">\n",
       "  <thead>\n",
       "    <tr style=\"text-align: right;\">\n",
       "      <th></th>\n",
       "      <th>image_id</th>\n",
       "      <th>InChI</th>\n",
       "    </tr>\n",
       "  </thead>\n",
       "  <tbody>\n",
       "    <tr>\n",
       "      <th>0</th>\n",
       "      <td>000011a64c74</td>\n",
       "      <td>InChI=1S/C13H20OS/c1-9(2)8-15-13-6-5-10(3)7-12...</td>\n",
       "    </tr>\n",
       "    <tr>\n",
       "      <th>1</th>\n",
       "      <td>000019cc0cd2</td>\n",
       "      <td>InChI=1S/C21H30O4/c1-12(22)25-14-6-8-20(2)13(1...</td>\n",
       "    </tr>\n",
       "    <tr>\n",
       "      <th>2</th>\n",
       "      <td>0000252b6d2b</td>\n",
       "      <td>InChI=1S/C24H23N5O4/c1-14-13-15(7-8-17(14)28-1...</td>\n",
       "    </tr>\n",
       "    <tr>\n",
       "      <th>3</th>\n",
       "      <td>000026b49b7e</td>\n",
       "      <td>InChI=1S/C17H24N2O4S/c1-12(20)18-13(14-7-6-10-...</td>\n",
       "    </tr>\n",
       "    <tr>\n",
       "      <th>4</th>\n",
       "      <td>000026fc6c36</td>\n",
       "      <td>InChI=1S/C10H19N3O2S/c1-15-10(14)12-8-4-6-13(7...</td>\n",
       "    </tr>\n",
       "  </tbody>\n",
       "</table>\n",
       "</div>"
      ],
      "text/plain": [
       "       image_id                                              InChI\n",
       "0  000011a64c74  InChI=1S/C13H20OS/c1-9(2)8-15-13-6-5-10(3)7-12...\n",
       "1  000019cc0cd2  InChI=1S/C21H30O4/c1-12(22)25-14-6-8-20(2)13(1...\n",
       "2  0000252b6d2b  InChI=1S/C24H23N5O4/c1-14-13-15(7-8-17(14)28-1...\n",
       "3  000026b49b7e  InChI=1S/C17H24N2O4S/c1-12(20)18-13(14-7-6-10-...\n",
       "4  000026fc6c36  InChI=1S/C10H19N3O2S/c1-15-10(14)12-8-4-6-13(7..."
      ]
     },
     "execution_count": 4,
     "metadata": {},
     "output_type": "execute_result"
    }
   ],
   "source": [
    "samples = pd.read_csv('../data/train_labels.csv')\n",
    "samples.head()"
   ]
  },
  {
   "cell_type": "code",
   "execution_count": 5,
   "metadata": {},
   "outputs": [],
   "source": [
    "tokenizer = Tokenizer(WordPiece(unk_token='[UNK]'))\n",
    "tokenizer.pre_tokenizer = Punctuation()\n",
    "\n",
    "trainer = WordPieceTrainer(\n",
    "    vocab_size=256, \n",
    "    min_frequency=2,\n",
    "    special_tokens=['[UNK]', '[BOS]', '[EOS]', '[PAD]']\n",
    ")\n",
    "tokenizer.train_from_iterator(samples['InChI'], trainer=trainer)"
   ]
  },
  {
   "cell_type": "code",
   "execution_count": 6,
   "metadata": {},
   "outputs": [],
   "source": [
    "tokenizer.post_processor = TemplateProcessing(\n",
    "    single=\"[BOS] $A [EOS]\",\n",
    "    special_tokens=[\n",
    "        (\"[BOS]\", tokenizer.token_to_id(\"[BOS]\")),\n",
    "        (\"[EOS]\", tokenizer.token_to_id(\"[EOS]\")),\n",
    "    ],\n",
    ")"
   ]
  },
  {
   "cell_type": "code",
   "execution_count": 7,
   "metadata": {},
   "outputs": [
    {
     "name": "stdout",
     "output_type": "stream",
     "text": [
      "[BOS] InChI = 1S / C21 ##H25 ##N3O2S / c1 - 5 - 6 - 16 - 13 - 18 ( 27 - 14 ( 16 ) 2 ) 21 ( 25 ) 23 - 19 ( 20 - 22 - 11 - 12 - 24 ( 20 ) 3 ) 15 - 7 - 9 - 17 ( 26 - 4 ) 10 - 8 - 15 / h7 - 13 , 19H , 5 - 6H2 , 1 - 4H3 , ( H , 23 , 25 ) [EOS]\n",
      "[BOS] InChI = 1S / C12 ##H11 ##Br ##F2 ##N4O / c1 ##3 - 7 - 3 - 9 ( 15 ) 10 ( 4 - 8 ( 7 ) 14 ) 17 - 12 - 19 - 18 - 11 ( 20 - 12 ) 5 - 16 - 6 - 1 - 2 - 6 / h3 - 4 , 6 , 16H , 1 - 2 , 5H2 , ( H , 17 , 19 ) [EOS]\n",
      "[BOS] InChI = 1S / C12 ##H22 ##N2O3 / c1 - 9 ( 15 ) 13 - 11 ( 12 ( 16 ) 17 ) 8 - 14 ( 2 ) 10 - 6 - 4 - 3 - 5 - 7 - 10 / h10 - 11H , 3 - 8H2 , 1 - 2H3 , ( H , 13 , 15 ) ( H , 16 , 17 ) [EOS]\n",
      "[BOS] InChI = 1S / C20 ##H29 ##NO3 / c1 - 2 - 3 - 4 - 8 - 15 - 24 - 20 ( 23 ) 17 - 11 - 13 - 18 ( 14 - 12 - 17 ) 21 - 19 ( 22 ) 16 - 9 - 6 - 5 - 7 - 10 - 16 / h11 - 14 , 16H , 2 - 10 , 15H2 , 1H3 , ( H , 21 , 22 ) [EOS]\n"
     ]
    }
   ],
   "source": [
    "print(' '.join(tokenizer.encode(samples.iloc[80000, 1]).tokens))\n",
    "print(' '.join(tokenizer.encode(samples.iloc[53242, 1]).tokens))\n",
    "print(' '.join(tokenizer.encode(samples.iloc[45212, 1]).tokens))\n",
    "print(' '.join(tokenizer.encode(samples.iloc[782120, 1]).tokens))"
   ]
  },
  {
   "cell_type": "code",
   "execution_count": 8,
   "metadata": {},
   "outputs": [
    {
     "name": "stderr",
     "output_type": "stream",
     "text": [
      "100%|██████████████████████████████████████████████████████████████████████| 2424186/2424186 [08:55<00:00, 4523.12it/s]\n"
     ]
    }
   ],
   "source": [
    "lengths = []\n",
    "for inchi in tqdm.tqdm(samples['InChI']):\n",
    "    lengths.append(len(tokenizer.encode(inchi).ids))"
   ]
  },
  {
   "cell_type": "code",
   "execution_count": 9,
   "metadata": {},
   "outputs": [
    {
     "name": "stdout",
     "output_type": "stream",
     "text": [
      "317\n"
     ]
    }
   ],
   "source": [
    "print(max(lengths))"
   ]
  },
  {
   "cell_type": "code",
   "execution_count": 10,
   "metadata": {},
   "outputs": [
    {
     "data": {
      "image/png": "[encoded data removed]",
      "text/plain": [
       "<Figure size 720x360 with 1 Axes>"
      ]
     },
     "metadata": {
      "needs_background": "light"
     },
     "output_type": "display_data"
    }
   ],
   "source": [
    "plt.figure(figsize=(10, 5))\n",
    "plt.hist(lengths, bins=500)\n",
    "plt.show()"
   ]
  },
  {
   "cell_type": "code",
   "execution_count": 11,
   "metadata": {},
   "outputs": [],
   "source": [
    "tokenizer.decoder = WordPieceDecoder()\n",
    "tokenizer.enable_padding(pad_id=tokenizer.token_to_id(\"[PAD]\"), pad_token='[PAD]', pad_to_multiple_of=8)\n",
    "tokenizer.enable_truncation(max_length=256)"
   ]
  },
  {
   "cell_type": "code",
   "execution_count": 12,
   "metadata": {},
   "outputs": [],
   "source": [
    "tokenizer.save('../data/tokenizer.json')"
   ]
  },
  {
   "cell_type": "code",
   "execution_count": null,
   "metadata": {},
   "outputs": [],
   "source": []
  }
 ],
 "metadata": {
  "kernelspec": {
   "display_name": "Python 3",
   "language": "python",
   "name": "python3"
  },
  "language_info": {
   "codemirror_mode": {
    "name": "ipython",
    "version": 3
   },
   "file_extension": ".py",
   "mimetype": "text/x-python",
   "name": "python",
   "nbconvert_exporter": "python",
   "pygments_lexer": "ipython3",
   "version": "3.8.5"
  }
 },
 "nbformat": 4,
 "nbformat_minor": 4
}
